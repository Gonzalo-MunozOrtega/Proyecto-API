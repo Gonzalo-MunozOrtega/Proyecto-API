{
 "cells": [
  {
   "cell_type": "code",
   "execution_count": null,
   "metadata": {},
   "outputs": [],
   "source": [
    "from xAPIConnector import APIClient, loginCommand, APIStreamClient\n",
    "\n",
    "# Credenciales de inicio de sesión\n",
    "userId = 123456456\n",
    "password = 'tu contraseña'\n",
    "# Crear una instancia de cliente de API\n",
    "client = APIClient()\n",
    "\n",
    "# Intenta iniciar sesión\n",
    "login_response = client.execute(loginCommand(userId=userId, password=password))\n",
    "if not login_response.get('status'):\n",
    "    print(\"Login failed:\", login_response.get('errorCode'))\n",
    "else:\n",
    "    print(\"Login successful\")\n",
    "    streamSessionId = login_response.get('streamSessionId')"
   ]
  },
  {
   "cell_type": "code",
   "execution_count": null,
   "metadata": {},
   "outputs": [],
   "source": [
    "from datetime import datetime\n",
    "import pandas as pd\n",
    "\n",
    "start_time = int(datetime(2018, 4, 1).timestamp()) * 1000\n",
    "end_time = int(datetime(2024, 4, 1).timestamp()) * 1000\n",
    "\n",
    "chart_range_request = {\n",
    "    \"command\": \"getChartRangeRequest\",\n",
    "    \"arguments\": {\n",
    "        \"info\": {\n",
    "            'symbol': 'NZDUSD',\n",
    "            'start': start_time,  \n",
    "            'end': end_time,      \n",
    "            'period': 60      \n",
    "        }\n",
    "    }\n",
    "}\n",
    "\n",
    "chart_data_response = client.execute(chart_range_request)\n",
    "\n",
    "# Verificar si la respuesta contiene 'returnData'\n",
    "if 'returnData' in chart_data_response:\n",
    "    candle_data = chart_data_response['returnData']['rateInfos']\n",
    "    \n",
    "factor = 100000\n",
    "\n",
    "# Actualizamos cada valor en las columnas 'open', 'close', 'high', y 'low' dividiéndolos por el factor\n",
    "for data in candle_data:\n",
    "    data['open'] = data['open'] / factor\n",
    "    data['close'] = data['close'] / factor\n",
    "    data['high'] = data['high'] / factor\n",
    "    data['low'] = data['low'] / factor\n",
    "\n",
    "df = pd.DataFrame(candle_data)\n",
    "\n",
    "# Ruta donde guardar el archivo Excel en tu sistema local\n",
    "ruta_excel = r\"C:\\Users\\gonza\\OneDrive\\Escritorio\\xAPI25-XTB-python\\.venv\\Extraccion de datos Excel\\NZDUSD_H1_2023.xlsx\"\n",
    "\n",
    "# Guardamos el DataFrame en un archivo Excel sin el índice\n",
    "df.to_excel(ruta_excel, index=False)\n",
    "\n",
    "print(f\"Los datos se han guardado en {ruta_excel}\")\n"
   ]
  },
  {
   "cell_type": "code",
   "execution_count": null,
   "metadata": {},
   "outputs": [],
   "source": [
    "from tabulate import tabulate\n",
    "print(tabulate(candle_data, headers='keys', tablefmt='grid'))"
   ]
  }
 ],
 "metadata": {
  "kernelspec": {
   "display_name": ".venv",
   "language": "python",
   "name": "python3"
  },
  "language_info": {
   "codemirror_mode": {
    "name": "ipython",
    "version": 3
   },
   "file_extension": ".py",
   "mimetype": "text/x-python",
   "name": "python",
   "nbconvert_exporter": "python",
   "pygments_lexer": "ipython3",
   "version": "3.12.2"
  }
 },
 "nbformat": 4,
 "nbformat_minor": 2
}
