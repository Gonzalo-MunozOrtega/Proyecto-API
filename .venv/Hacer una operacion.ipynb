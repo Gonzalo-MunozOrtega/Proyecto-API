{
 "cells": [
  {
   "cell_type": "code",
   "execution_count": 3,
   "metadata": {},
   "outputs": [
    {
     "name": "stderr",
     "output_type": "stream",
     "text": [
      "[2024-03-26 14:13:38,473][connect:74] Socket connected\n",
      "[2024-03-26 14:13:38,475][_waitingSend:88] Sent: b'{\"command\": \"login\", \"arguments\": {\"userId\": 15910244, \"password\": \"Hermanaaniel1\", \"appName\": \"\"}}'\n",
      "[2024-03-26 14:13:38,979][_read:107] Received: {'status': True, 'streamSessionId': '005056fffeb96ad7-0009ac4f-004ca2ad-3d93fab2fca37faa-0a5cfcd4'}\n"
     ]
    },
    {
     "name": "stdout",
     "output_type": "stream",
     "text": [
      "Login successful\n"
     ]
    }
   ],
   "source": [
    "from xAPIConnector import APIClient, loginCommand, APIStreamClient\n",
    "# Credenciales de inicio de sesión\n",
    "userId = 15910244\n",
    "password = 'Hermanaaniel1'\n",
    "# Crear una instancia de cliente de API\n",
    "client = APIClient()\n",
    "\n",
    "# Intenta iniciar sesión\n",
    "login_response = client.execute(loginCommand(userId=userId, password=password))\n",
    "if not login_response.get('status'):\n",
    "    print(\"Login failed:\", login_response.get('errorCode'))\n",
    "else:\n",
    "    print(\"Login successful\")\n",
    "    streamSessionId = login_response.get('streamSessionId')"
   ]
  },
  {
   "cell_type": "code",
   "execution_count": 5,
   "metadata": {},
   "outputs": [
    {
     "name": "stderr",
     "output_type": "stream",
     "text": [
      "[2024-03-26 14:14:48,985][_waitingSend:88] Sent: b'{\"command\": \"tradeTransaction\", \"arguments\": {\"tradeTransInfo\": {\"cmd\": 0, \"type\": 0, \"symbol\": \"EURUSD\", \"sl\": 1.0818, \"tp\": 1.909, \"volume\": 0.1, \"price\": 1.12345, \"comment\": \"Prueba de compra\", \"customComment\": \"Operaci\\\\u00f3n de prueba\"}}}'\n",
      "[2024-03-26 14:14:49,282][_read:107] Received: {'status': True, 'returnData': {'order': 605110994}}\n"
     ]
    },
    {
     "name": "stdout",
     "output_type": "stream",
     "text": [
      "Operación exitosa\n"
     ]
    }
   ],
   "source": [
    "trade_response = client.commandExecute('tradeTransaction', {\n",
    "    'tradeTransInfo': {\n",
    "        'cmd': 0,  # 0 para compra\n",
    "        'type': 0,  # 0 para abrir una orden\n",
    "        'symbol': 'EURUSD',\n",
    "        'sl': 1.08180,\n",
    "        'tp': 1.90900,\n",
    "        'volume': 0.1,\n",
    "        'price': 1.12345,  # El precio de apertura deseado\n",
    "  # Take profit\n",
    "        'comment': 'Prueba de compra',\n",
    "        'customComment': 'Operación de prueba'\n",
    "    }\n",
    "})\n",
    "if trade_response['status']:\n",
    "    print(\"Operación exitosa\")\n",
    "else:\n",
    "    print(f\"Error en la operación: {trade_response['errorCode']}\")\n"
   ]
  }
 ],
 "metadata": {
  "kernelspec": {
   "display_name": ".venv",
   "language": "python",
   "name": "python3"
  },
  "language_info": {
   "codemirror_mode": {
    "name": "ipython",
    "version": 3
   },
   "file_extension": ".py",
   "mimetype": "text/x-python",
   "name": "python",
   "nbconvert_exporter": "python",
   "pygments_lexer": "ipython3",
   "version": "3.12.2"
  }
 },
 "nbformat": 4,
 "nbformat_minor": 2
}
