{
 "cells": [
  {
   "cell_type": "code",
   "execution_count": null,
   "metadata": {},
   "outputs": [],
   "source": [
    "from xAPIConnector import APIClient, loginCommand, APIStreamClient\n",
    "# Credenciales de inicio de sesión\n",
    "userId = 123456456\n",
    "password = 'tu contraseña'\n",
    "# Crear una instancia de cliente de API\n",
    "client = APIClient()\n",
    "\n",
    "# Intenta iniciar sesión\n",
    "login_response = client.execute(loginCommand(userId=userId, password=password))\n",
    "if not login_response.get('status'):\n",
    "    print(\"Login failed:\", login_response.get('errorCode'))\n",
    "else:\n",
    "    print(\"Login successful\")\n",
    "    streamSessionId = login_response.get('streamSessionId')"
   ]
  },
  {
   "cell_type": "code",
   "execution_count": null,
   "metadata": {},
   "outputs": [],
   "source": [
    "trade_response = client.commandExecute('tradeTransaction', {\n",
    "    'tradeTransInfo': {\n",
    "        'cmd': 0,  # 0 para compra\n",
    "        'type': 0,  # 0 para abrir una orden\n",
    "        'symbol': 'EURUSD',\n",
    "        'sl': 1.08180,\n",
    "        'tp': 1.90900,\n",
    "        'volume': 0.1,\n",
    "        'price': 1.12345,  # El precio de apertura deseado\n",
    "  # Take profit\n",
    "        'comment': 'Prueba de compra',\n",
    "        'customComment': 'Operación de prueba'\n",
    "    }\n",
    "})\n",
    "if trade_response['status']:\n",
    "    print(\"Operación exitosa\")\n",
    "else:\n",
    "    print(f\"Error en la operación: {trade_response['errorCode']}\")\n"
   ]
  }
 ],
 "metadata": {
  "kernelspec": {
   "display_name": ".venv",
   "language": "python",
   "name": "python3"
  },
  "language_info": {
   "codemirror_mode": {
    "name": "ipython",
    "version": 3
   },
   "file_extension": ".py",
   "mimetype": "text/x-python",
   "name": "python",
   "nbconvert_exporter": "python",
   "pygments_lexer": "ipython3",
   "version": "3.12.2"
  }
 },
 "nbformat": 4,
 "nbformat_minor": 2
}
