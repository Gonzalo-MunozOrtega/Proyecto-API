{
 "cells": [
  {
   "cell_type": "code",
   "execution_count": 1,
   "metadata": {},
   "outputs": [
    {
     "name": "stderr",
     "output_type": "stream",
     "text": [
      "[2024-04-03 18:32:05,517][connect:74] Socket connected\n",
      "[2024-04-03 18:32:05,518][_waitingSend:88] Sent: b'{\"command\": \"login\", \"arguments\": {\"userId\": 15910244, \"password\": \"\", \"appName\": \"\"}}'\n",
      "[2024-04-03 18:32:05,928][_read:107] Received: {'status': False, 'errorCode': 'BE005', 'errorDescr': 'Password is blank'}\n"
     ]
    },
    {
     "name": "stdout",
     "output_type": "stream",
     "text": [
      "Login failed: BE005\n"
     ]
    }
   ],
   "source": [
    "from xAPIConnector import APIClient, loginCommand, APIStreamClient\n",
    "# Credenciales de inicio de sesión\n",
    "userId = 15910244\n",
    "password = ''\n",
    "# Crear una instancia de cliente de API\n",
    "client = APIClient()\n",
    "\n",
    "# Intenta iniciar sesión\n",
    "login_response = client.execute(loginCommand(userId=userId, password=password))\n",
    "if not login_response.get('status'):\n",
    "    print(\"Login failed:\", login_response.get('errorCode'))\n",
    "else:\n",
    "    print(\"Login successful\")\n",
    "    streamSessionId = login_response.get('streamSessionId')"
   ]
  },
  {
   "cell_type": "code",
   "execution_count": null,
   "metadata": {},
   "outputs": [],
   "source": [
    "resp = client.commandExecute('getAllSymbols')"
   ]
  }
 ],
 "metadata": {
  "kernelspec": {
   "display_name": "Python 3",
   "language": "python",
   "name": "python3"
  },
  "language_info": {
   "codemirror_mode": {
    "name": "ipython",
    "version": 3
   },
   "file_extension": ".py",
   "mimetype": "text/x-python",
   "name": "python",
   "nbconvert_exporter": "python",
   "pygments_lexer": "ipython3",
   "version": "3.12.2"
  }
 },
 "nbformat": 4,
 "nbformat_minor": 2
}
