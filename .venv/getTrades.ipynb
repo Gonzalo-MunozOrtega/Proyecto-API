{
 "cells": [
  {
   "cell_type": "code",
   "execution_count": null,
   "metadata": {},
   "outputs": [],
   "source": [
    "from xAPIConnector import APIClient, loginCommand, APIStreamClient\n",
    "\n",
    "# Credenciales de inicio de sesión\n",
    "userId = 123456\n",
    "password = 'tu contraseña'\n",
    "# Crear una instancia de cliente de API\n",
    "client = APIClient()\n",
    "\n",
    "# Intenta iniciar sesión\n",
    "login_response = client.execute(loginCommand(userId=userId, password=password))\n",
    "if not login_response.get('status'):\n",
    "    print(\"Login failed:\", login_response.get('errorCode'))\n",
    "else:\n",
    "    print(\"Login successful\")\n",
    "    streamSessionId = login_response.get('streamSessionId')"
   ]
  },
  {
   "cell_type": "code",
   "execution_count": null,
   "metadata": {},
   "outputs": [],
   "source": [
    "from datetime import datetime\n",
    "# Ajustes en la función para utilizar los valores start_time y end_time proporcionados\n",
    "def obtener_velas(client, symbol, period, start_time, end_time):\n",
    "    # Preparar los argumentos para la solicitud\n",
    "    arguments = {\n",
    "        'info': {\n",
    "            'symbol': symbol,  # Ejemplo: 'EURUSD'\n",
    "            'period': period,  # Ejemplo: 60 para velas de 1 hora\n",
    "            'start': start_time,  # Usando el valor start_time proporcionado\n",
    "            'end': end_time  # Usando el valor end_time proporcionado\n",
    "        }\n",
    "    }\n",
    "\n",
    "    candles_response = client.commandExecute('getChartRangeRequest', arguments)\n",
    "    if candles_response['status']:\n",
    "        print(\"Velas obtenidas con éxito.\")\n",
    "\n",
    "        for candle in candles_response.get('returnData', {}).get('rateInfos', []):\n",
    "            print(candle)  # Imprime cada vela. Ajusta según tus necesidades.\n",
    "    else:\n",
    "        print(f\"Error al obtener velas: {candles_response.get('errorCode')}\")\n",
    "\n",
    "# Ejemplo de uso de la función con los valores proporcionados\n",
    "symbol = 'US100'  # Símbolo para el cual obtener las velas\n",
    "period = 60  # Periodo de las velas en minutos (60 para 1 hora)\n",
    "start_time = int(datetime(2024, 2, 19).timestamp()) * 1000\n",
    "end_time = int(datetime(2024, 3, 12).timestamp()) * 1000\n",
    "\n",
    "obtener_velas(client, symbol, period, start_time, end_time)"
   ]
  },
  {
   "cell_type": "code",
   "execution_count": null,
   "metadata": {},
   "outputs": [],
   "source": [
    "def calcular_profit_potencial(client, symbol, cmd, open_price, close_price, volume):\n",
    "    \"\"\"\n",
    "    Calcula el profit potencial de una operación.\n",
    "\n",
    "    :param client: Instancia del cliente de la API.\n",
    "    :param symbol: Símbolo del instrumento (ej. 'EURUSD').\n",
    "    :param cmd: Tipo de operación (0 para compra, 1 para venta).\n",
    "    :param open_price: Precio de apertura de la operación.\n",
    "    :param close_price: Precio de cierre estimado de la operación.\n",
    "    :param volume: Volumen de la operación.\n",
    "    \"\"\"\n",
    "    arguments = {\n",
    "        'symbol': symbol,\n",
    "        'cmd': cmd,\n",
    "        'volume': volume,\n",
    "        'openPrice': open_price,\n",
    "        'closePrice': close_price\n",
    "    }\n",
    "    \n",
    "    # Ejecutar el comando getProfitCalculation\n",
    "    profit_response = client.commandExecute('getProfitCalculation', arguments)\n",
    "    \n",
    "    # Verificar si la solicitud fue exitosa\n",
    "    if profit_response['status']:\n",
    "        print(\"Cálculo de profit realizado con éxito.\")\n",
    "        print(f\"Profit estimado: {profit_response['returnData']['profit']} {profit_response['returnData']}\")\n",
    "    else:\n",
    "        print(f\"Error al calcular el profit: {profit_response.get('errorCode')}\")\n",
    "\n",
    "# Ejemplo de uso\n",
    "calcular_profit_potencial(client, 'EURUSD', 0, 1.09, 1.10, 0.1)\n"
   ]
  }
 ],
 "metadata": {
  "kernelspec": {
   "display_name": ".venv",
   "language": "python",
   "name": "python3"
  },
  "language_info": {
   "codemirror_mode": {
    "name": "ipython",
    "version": 3
   },
   "file_extension": ".py",
   "mimetype": "text/x-python",
   "name": "python",
   "nbconvert_exporter": "python",
   "pygments_lexer": "ipython3",
   "version": "3.12.1"
  }
 },
 "nbformat": 4,
 "nbformat_minor": 2
}
